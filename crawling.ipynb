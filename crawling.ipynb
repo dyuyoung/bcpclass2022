{
  "nbformat": 4,
  "nbformat_minor": 0,
  "metadata": {
    "colab": {
      "name": "crawling.ipynb",
      "provenance": [],
      "collapsed_sections": [],
      "authorship_tag": "ABX9TyO4obpMJTAdMt/w6V1eBJkS",
      "include_colab_link": true
    },
    "kernelspec": {
      "name": "python3",
      "display_name": "Python 3"
    },
    "language_info": {
      "name": "python"
    }
  },
  "cells": [
    {
      "cell_type": "markdown",
      "metadata": {
        "id": "view-in-github",
        "colab_type": "text"
      },
      "source": [
        "<a href=\"https://colab.research.google.com/github/dyuyoung/bcpclass2022/blob/main/crawling.ipynb\" target=\"_parent\"><img src=\"https://colab.research.google.com/assets/colab-badge.svg\" alt=\"Open In Colab\"/></a>"
      ]
    },
    {
      "cell_type": "code",
      "source": [
        "from urllib.request import urlopen\n",
        "from bs4 import BeautifulSoup as bs\n",
        "\n",
        "url=\"http://www.cgv.co.kr/movies/?lt=1&ft=0\"\n",
        "html=urlopen(url).read()\n",
        "\n",
        "\n",
        "soup=bs(html, \"lxml\")\n",
        "\n",
        "movies=soup.find_all(\"strong\", attrs={\"class\":\"title\"})\n",
        "print(\"<무비차트>----예매율 순\")\n",
        "k=[]\n",
        "for movie in movies :\n",
        "  k.append(movie.get_text('\\n'))\n",
        "for i in range(1, 20) :\n",
        "  print(i, k[i-1])"
      ],
      "metadata": {
        "colab": {
          "base_uri": "https://localhost:8080/"
        },
        "id": "pSN1Yz4QGZ-g",
        "outputId": "8087a9f4-b77f-410e-dbb4-28c10c23db89"
      },
      "execution_count": null,
      "outputs": [
        {
          "output_type": "stream",
          "name": "stdout",
          "text": [
            "<무비차트>----예매율 순\n",
            "1 쥬라기 월드-도미니언\n",
            "2 범죄도시 2\n",
            "3 극장판 포켓몬스터DP-기라티나와 하늘의 꽃다발 쉐이미\n",
            "4 브로커\n",
            "5 애프터 양\n",
            "6 카시오페아\n",
            "7 닥터 스트레인지-대혼돈의 멀티버스\n",
            "8 (라이브뷰잉)Ensemble Stars!! DREAM LIVE -6th Tour “Synchronic Spheres”- Live Viewing\n",
            "9 피는 물보다 진하다\n",
            "10 그대가 조국\n",
            "11 특수요원 빼꼼\n",
            "12 오마주\n",
            "13 마녀(魔女) Part2. The Other One\n",
            "14 올리 마키의 가장 행복한 날\n",
            "15 핑크퐁과 아기상어의 월드투어쇼\n",
            "16 더 노비스\n",
            "17 안녕하세요\n",
            "18 2022 뮤지컬 태양의 노래(LIVE)\n",
            "19 매스\n"
          ]
        }
      ]
    },
    {
      "cell_type": "code",
      "source": [
        "#예매율 출력 프로그램\n",
        "\n",
        "ticket=int(input(\"개봉일을 알고싶은 영화의 순위를 입력해주세요>>> \"))\n",
        "\n",
        "day=soup.find_all(\"em\", attrs={\"class\":\"dday\"})\n",
        "ps=soup.find_all(\"span\", attrs={\"class\":\"txt-info\"})\n",
        "j=[]\n",
        "for p in ps :\n",
        "  j.append(p.get_text())\n",
        "print(j[ticket-1])"
      ],
      "metadata": {
        "id": "SWdlAhvoXeHK",
        "colab": {
          "base_uri": "https://localhost:8080/"
        },
        "outputId": "aa6a5dc5-f800-4462-bcf0-2a807dbf9a6e"
      },
      "execution_count": 81,
      "outputs": [
        {
          "output_type": "stream",
          "name": "stdout",
          "text": [
            "개봉일을 알고싶은 영화의 순위를 입력해주세요>>> 13\n",
            "\n",
            "\n",
            "                                2022.06.15 \n",
            "                                개봉\n",
            "D-14\n",
            "\n",
            "\n"
          ]
        }
      ]
    }
  ]
}